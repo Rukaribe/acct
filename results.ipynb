{
 "cells": [
  {
   "cell_type": "code",
   "execution_count": 23,
   "metadata": {},
   "outputs": [
    {
     "data": {
      "text/html": [
       "<style>.container { width:70% !important; }</style>"
      ],
      "text/plain": [
       "<IPython.core.display.HTML object>"
      ]
     },
     "metadata": {},
     "output_type": "display_data"
    }
   ],
   "source": [
    "%matplotlib inline\n",
    "\n",
    "import numpy as np\n",
    "import pandas as pd\n",
    "\n",
    "from IPython.display import display\n",
    "\n",
    "import matplotlib.pyplot as plt\n",
    "plt.style.use('ggplot')\n",
    "\n",
    "from IPython.core.display import display, HTML\n",
    "display(HTML(\"<style>.container { width:70% !important; }</style>\"))\n",
    "pd.options.display.float_format = '${:,.2f}'.format\n",
    "\n",
    "from beakerx import *"
   ]
  },
  {
   "cell_type": "code",
   "execution_count": 41,
   "metadata": {},
   "outputs": [
    {
     "data": {
      "application/vnd.jupyter.widget-view+json": {
       "model_id": "b4e6cded73aa4e93b6d734a0fb456258",
       "version_major": 2,
       "version_minor": 0
      }
     },
     "metadata": {},
     "output_type": "display_data"
    }
   ],
   "source": [
    "path = 'http://becauseinterfaces.com/acct/data/'\n",
    "infile = 'bs_hist_sim01.csv'\n",
    "df = pd.read_csv(path + infile, index_col=['date','entity'], parse_dates=True)\n",
    "#print(df)\n",
    "table = TableDisplay(df)\n",
    "table"
   ]
  },
  {
   "cell_type": "code",
   "execution_count": 40,
   "metadata": {},
   "outputs": [
    {
     "name": "stdout",
     "output_type": "stream",
     "text": [
      "                   revenues  expenses  net_income  net_asset_value    delta\n",
      "entity date                                                                \n",
      "1      2018-05-08     $0.00     $0.00       $0.00            $0.00     $nan\n",
      "       2018-05-09    $10.97     $1.46       $9.51            $9.51    $9.51\n",
      "       2018-05-10   $117.48     $7.25     $110.23          $110.23  $100.72\n",
      "       2018-05-11   $126.03    $27.93      $98.09           $98.10  $-12.13\n",
      "       2018-05-14   $127.72    $58.65      $69.08           $69.08  $-29.02\n",
      "       2018-05-15   $124.75    $47.92      $76.84           $76.83    $7.76\n",
      "       2018-05-16   $196.75    $41.17     $155.57          $155.57   $78.74\n",
      "       2018-05-17   $200.88    $93.63     $107.24          $107.24  $-48.33\n",
      "       2018-05-18   $222.21   $125.81      $96.39           $96.39  $-10.85\n",
      "       2018-05-21   $248.16   $124.58     $123.58          $123.58   $27.19\n",
      "       2018-05-23   $290.62   $138.74     $151.88          $151.88   $28.30\n",
      "       2018-05-24   $288.12   $187.52     $100.60          $100.60  $-51.28\n",
      "       2018-05-25   $297.96   $174.82     $123.14          $123.14   $22.54\n",
      "       2018-05-29   $335.97   $198.18     $137.79          $137.79   $14.65\n",
      "       2018-05-30   $449.13   $196.65     $252.48          $252.48  $114.69\n",
      "       2018-05-31   $531.47   $240.79     $290.68          $290.68   $38.20\n",
      "       2018-06-01   $554.11   $286.62     $267.49          $267.49  $-23.19\n",
      "       2018-06-04   $628.63   $301.64     $326.99          $326.99   $59.50\n",
      "       2018-06-05   $779.62   $294.49     $485.13          $485.13  $158.14\n",
      "       2018-06-06   $817.01   $321.46     $495.55          $495.55   $10.42\n",
      "       2018-06-07   $850.29   $336.46     $513.83          $513.83   $18.28\n",
      "       2018-06-08   $855.84   $332.13     $523.71          $523.71    $9.88\n",
      "       2018-06-11   $864.34   $353.82     $510.52          $510.52  $-13.19\n",
      "       2018-06-12   $871.02   $392.30     $478.72          $478.72  $-31.80\n",
      "       2018-06-13   $879.34   $403.06     $476.28          $476.28   $-2.44\n",
      "       2018-06-14   $904.03   $379.96     $524.08          $524.08   $47.79\n",
      "       2018-06-15 $1,066.35   $383.67     $682.69          $682.69  $158.61\n",
      "       2018-06-18 $1,079.04   $442.17     $636.87          $636.87  $-45.81\n",
      "       2018-06-19 $1,094.24   $465.42     $628.82          $628.82   $-8.05\n",
      "       2018-06-20 $1,139.74   $474.44     $665.30          $665.30   $36.48\n",
      "       2018-06-21 $1,166.82   $480.84     $685.98          $685.98   $20.68\n",
      "       2018-06-22 $1,194.83   $606.53     $588.30          $588.30  $-97.68\n",
      "       2018-06-25 $1,182.80   $673.87     $508.93          $508.93  $-79.36\n",
      "       2018-06-26 $1,182.78   $700.55     $482.23          $482.23  $-26.70\n",
      "       2018-06-27 $1,183.25   $790.39     $392.86          $392.86  $-89.37\n",
      "       2018-06-28 $1,190.07   $824.86     $365.21          $365.21  $-27.65\n",
      "       2018-06-29 $1,230.78   $839.70     $391.08          $391.08   $25.87\n",
      "       2018-07-02 $1,289.42   $863.85     $425.57          $425.57   $34.48\n",
      "       2018-07-03 $1,307.74   $889.31     $418.43          $418.43   $-7.14\n",
      "       2018-07-05 $1,355.55   $882.94     $472.61          $472.61   $54.18\n",
      "       2018-07-06 $1,431.16   $902.93     $528.24          $528.24   $55.63\n",
      "       2018-07-09 $1,499.83   $931.73     $568.10          $568.10   $39.86\n",
      "       2018-07-10 $1,654.80 $1,006.32     $648.48          $648.48   $80.38\n",
      "       2018-07-11 $1,682.08 $1,063.04     $619.04          $619.04  $-29.44\n",
      "       2018-07-12 $1,670.83 $1,112.27     $558.56          $558.56  $-60.48\n",
      "       2018-07-13 $1,665.07 $1,155.22     $509.86          $509.86  $-48.71\n",
      "       2018-07-16 $1,742.57 $1,243.23     $499.34          $499.34  $-10.52\n",
      "       2018-07-17 $1,787.19 $1,273.00     $514.19          $514.19   $14.85\n",
      "       2018-07-18 $1,820.65 $1,348.53     $472.11          $472.11  $-42.08\n",
      "       2018-07-19 $1,856.15 $1,393.25     $462.90          $462.90   $-9.21\n",
      "       2018-07-20 $1,893.20 $1,398.25     $494.94          $494.94   $32.04\n",
      "       2018-07-23 $1,895.07 $1,391.05     $504.01          $504.01    $9.07\n",
      "       2018-07-24 $1,910.24 $1,392.48     $517.75          $517.75   $13.74\n",
      "       2018-07-25 $1,932.57 $1,391.77     $540.79          $540.79   $23.04\n",
      "       2018-07-26 $1,944.42 $1,393.13     $551.29          $551.29   $10.50\n",
      "       2018-07-27 $1,940.68 $1,426.29     $514.39          $514.39  $-36.90\n",
      "       2018-07-30 $1,941.04 $1,433.49     $507.55          $507.55   $-6.84\n",
      "       2018-07-31 $1,957.69 $1,458.52     $499.16          $499.16   $-8.38\n",
      "       2018-08-01 $1,991.00 $1,467.41     $523.60          $523.60   $24.43\n",
      "       2018-08-02 $2,068.63 $1,471.51     $597.12          $597.12   $73.52\n",
      "       2018-08-03 $2,073.42 $1,499.16     $574.26          $574.26  $-22.85\n",
      "       2018-08-06 $2,097.53 $1,493.29     $604.24          $604.24   $29.98\n",
      "       2018-08-07 $2,100.86 $1,521.95     $578.92          $578.92  $-25.33\n",
      "       2018-08-08 $2,125.20 $1,556.42     $568.78          $568.78  $-10.14\n",
      "       2018-08-09 $2,129.85 $1,597.20     $532.65          $532.65  $-36.13\n",
      "       2018-08-10 $2,175.59 $1,680.59     $495.00          $495.00  $-37.65\n",
      "       2018-08-13 $2,168.36 $1,685.44     $482.92          $482.92  $-12.08\n",
      "       2018-08-14 $2,166.57 $1,665.68     $500.89          $500.89   $17.97\n",
      "       2018-08-15 $2,162.79 $2,021.14     $141.65          $141.65 $-359.24\n",
      "       2018-08-16 $2,167.10 $2,045.40     $121.70          $121.70  $-19.95\n",
      "       2018-08-17 $2,212.19 $2,049.07     $163.12          $163.12   $41.42\n",
      "       2018-08-20 $2,251.11 $2,046.91     $204.20          $204.20   $41.08\n",
      "       2018-08-21 $2,285.85 $2,047.17     $238.68          $238.68   $34.48\n",
      "       2018-08-22 $2,288.99 $2,049.82     $239.17          $239.17    $0.49\n",
      "       2018-08-23 $2,287.70 $2,049.88     $237.82          $237.82   $-1.35\n",
      "       2018-08-24 $2,306.63 $2,074.72     $231.91          $231.91   $-5.91\n",
      "       2018-08-26 $2,306.63 $2,306.89      $-0.26           $-0.26 $-232.17\n"
     ]
    }
   ],
   "source": [
    "result = df.groupby(['entity','date']).sum()\n",
    "result['delta'] = result['net_asset_value'] - result['net_asset_value'].shift(1)\n",
    "columns = ['revenues','expenses','net_income','net_asset_value','delta']\n",
    "with pd.option_context('display.max_rows', None, 'display.max_columns', None):\n",
    "    print(result[columns])"
   ]
  },
  {
   "cell_type": "code",
   "execution_count": 39,
   "metadata": {},
   "outputs": [
    {
     "data": {
      "text/plain": [
       "<matplotlib.text.Text at 0x11750e2e8>"
      ]
     },
     "execution_count": 39,
     "metadata": {},
     "output_type": "execute_result"
    },
    {
     "data": {
      "image/png": "[encoded data removed]",
      "text/plain": [
       "<matplotlib.figure.Figure at 0x117560eb8>"
      ]
     },
     "metadata": {},
     "output_type": "display_data"
    }
   ],
   "source": [
    "ax = df['net_asset_value'].plot(legend=True)\n",
    "ax.set_ylabel('NAV')"
   ]
  },
  {
   "cell_type": "code",
   "execution_count": null,
   "metadata": {},
   "outputs": [],
   "source": []
  }
 ],
 "metadata": {
  "kernelspec": {
   "display_name": "Python 3",
   "language": "python",
   "name": "python3"
  }
 },
 "nbformat": 4,
 "nbformat_minor": 2
}
