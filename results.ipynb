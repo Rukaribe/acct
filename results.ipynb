{
 "cells": [
  {
   "cell_type": "code",
   "execution_count": 42,
   "metadata": {},
   "outputs": [
    {
     "data": {
      "text/html": [
       "<style>.container { width:70% !important; }</style>"
      ],
      "text/plain": [
       "<IPython.core.display.HTML object>"
      ]
     },
     "metadata": {},
     "output_type": "display_data"
    }
   ],
   "source": [
    "%matplotlib inline\n",
    "\n",
    "import numpy as np\n",
    "import pandas as pd\n",
    "\n",
    "from IPython.display import display\n",
    "\n",
    "import matplotlib.pyplot as plt\n",
    "plt.style.use('ggplot')\n",
    "\n",
    "from IPython.core.display import display, HTML\n",
    "display(HTML(\"<style>.container { width:70% !important; }</style>\"))\n",
    "pd.options.display.float_format = '${:,.2f}'.format\n",
    "\n",
    "from beakerx import *"
   ]
  },
  {
   "cell_type": "code",
   "execution_count": 48,
   "metadata": {},
   "outputs": [
    {
     "data": {
      "application/vnd.jupyter.widget-view+json": {
       "model_id": "2f9857926ac84eedbfef95ee67f0fe78",
       "version_major": 2,
       "version_minor": 0
      }
     },
     "metadata": {},
     "output_type": "display_data"
    }
   ],
   "source": [
    "path = 'http://becauseinterfaces.com/acct/data/'\n",
    "infile = 'bs_hist_sim02.csv'\n",
    "df = pd.read_csv(path + infile, index_col=['date','entity'], parse_dates=True)\n",
    "#print(df)\n",
    "table = TableDisplay(df)\n",
    "table"
   ]
  },
  {
   "cell_type": "code",
   "execution_count": 49,
   "metadata": {},
   "outputs": [
    {
     "name": "stdout",
     "output_type": "stream",
     "text": [
      "                   revenues  expenses  net_income  net_asset_value    delta\n",
      "entity date                                                                \n",
      "1      2018-05-08     $0.00     $2.13      $-2.13           $-2.13     $nan\n",
      "       2018-05-09    $34.76     $4.26      $30.50           $30.50   $32.63\n",
      "       2018-05-10    $84.18    $10.11      $74.07           $74.07   $43.58\n",
      "       2018-05-11   $154.88    $21.75     $133.13          $133.13   $59.06\n",
      "       2018-05-12   $154.88    $23.88     $131.00          $131.00   $-2.13\n",
      "       2018-05-13   $154.88    $26.00     $128.87          $128.87   $-2.13\n",
      "       2018-05-14   $168.63    $48.84     $119.79          $119.79   $-9.08\n",
      "       2018-05-15   $183.29    $70.10     $113.18          $113.18   $-6.61\n",
      "       2018-05-16   $198.65    $75.39     $123.26          $123.26   $10.08\n",
      "       2018-05-17   $233.59   $119.58     $114.02          $114.02   $-9.24\n",
      "       2018-05-18   $248.24   $180.43      $67.82           $67.82  $-46.20\n",
      "       2018-05-19   $248.24   $182.56      $65.69           $65.69   $-2.13\n",
      "       2018-05-20   $248.24   $184.69      $63.56           $63.56   $-2.13\n",
      "       2018-05-21   $277.26   $203.65      $73.62           $73.62   $10.06\n",
      "       2018-05-23   $278.86   $293.12     $-14.25          $-14.25  $-87.87\n",
      "       2018-05-24   $286.24   $301.07     $-14.84          $-14.84   $-0.58\n",
      "       2018-05-25   $329.64   $315.59      $14.05           $14.05   $28.88\n",
      "       2018-05-26   $329.64   $317.72      $11.92           $11.92   $-2.13\n",
      "       2018-05-27   $329.64   $319.85       $9.79            $9.79   $-2.13\n",
      "       2018-05-28   $329.64   $321.98       $7.66            $7.66   $-2.13\n",
      "       2018-05-29   $353.11   $349.61       $3.50            $3.50   $-4.15\n",
      "       2018-05-30   $400.46   $367.68      $32.78           $32.78   $29.28\n",
      "       2018-05-31   $411.88   $376.17      $35.71           $35.71    $2.93\n",
      "       2018-06-01   $424.92   $417.98       $6.94            $6.94  $-28.78\n",
      "       2018-06-02   $424.92   $420.11       $4.81            $4.81   $-2.13\n",
      "       2018-06-03   $424.92   $422.24       $2.68            $2.68   $-2.13\n",
      "       2018-06-04   $489.10   $443.19      $45.91           $45.91   $43.24\n",
      "       2018-06-05   $546.76   $444.14     $102.63          $102.63   $56.71\n",
      "       2018-06-06   $609.08   $446.27     $162.81          $162.81   $60.19\n",
      "       2018-06-07   $558.00   $452.58     $105.43          $105.43  $-57.39\n",
      "       2018-06-08   $582.52   $455.97     $126.56          $126.56   $21.13\n",
      "       2018-06-09   $582.52   $458.10     $124.43          $124.43   $-2.13\n",
      "       2018-06-10   $582.52   $460.23     $122.30          $122.30   $-2.13\n",
      "       2018-06-11   $593.05   $463.20     $129.85          $129.85    $7.56\n",
      "       2018-06-12   $595.55   $532.64      $62.91           $62.91  $-66.94\n",
      "       2018-06-13   $625.44   $532.81      $92.63           $92.63   $29.72\n",
      "       2018-06-14   $692.87   $562.91     $129.96          $129.96   $37.32\n",
      "       2018-06-15   $672.81   $570.94     $101.87          $101.87  $-28.09\n",
      "       2018-06-16   $672.81   $573.07      $99.74           $99.74   $-2.13\n",
      "       2018-06-17   $672.81   $575.20      $97.61           $97.61   $-2.13\n",
      "       2018-06-18   $694.71   $608.66      $86.05           $86.05  $-11.56\n",
      "       2018-06-19   $722.28   $614.31     $107.97          $107.97   $21.92\n",
      "       2018-06-20   $754.01   $627.49     $126.52          $126.52   $18.55\n",
      "       2018-06-21   $743.54   $699.37      $44.16           $44.16  $-82.35\n",
      "       2018-06-22   $772.89   $702.83      $70.06           $70.06   $25.89\n",
      "       2018-06-23   $772.89   $704.96      $67.93           $67.93   $-2.13\n",
      "       2018-06-24   $772.89   $707.09      $65.80           $65.80   $-2.13\n",
      "       2018-06-25   $759.71   $749.93       $9.78            $9.78  $-56.02\n",
      "       2018-06-26   $760.55   $747.77      $12.78           $12.78    $3.00\n",
      "       2018-06-27   $781.57   $791.64     $-10.08          $-10.08  $-22.85\n",
      "       2018-06-28   $784.29   $824.50     $-40.22          $-40.22  $-30.14\n",
      "       2018-06-29   $873.24   $857.84      $15.39           $15.39   $55.61\n",
      "       2018-06-30   $873.24   $859.97      $13.26           $13.26   $-2.13\n",
      "       2018-07-01   $873.24   $862.10      $11.13           $11.13   $-2.13\n",
      "       2018-07-02   $856.72   $900.49     $-43.78          $-43.78  $-54.91\n",
      "       2018-07-03   $880.80   $889.67      $-8.87           $-8.87   $34.91\n",
      "       2018-07-04   $880.80   $891.80     $-11.00          $-11.00   $-2.13\n",
      "       2018-07-05   $889.42   $938.22     $-48.80          $-48.80  $-37.80\n",
      "       2018-07-06   $914.88   $999.43     $-84.55          $-84.55  $-35.75\n",
      "       2018-07-07   $914.88 $1,001.56     $-86.68          $-86.68   $-2.13\n",
      "       2018-07-08   $914.88 $1,003.69     $-88.81          $-88.81   $-2.13\n",
      "       2018-07-09   $954.35 $1,039.52     $-85.16          $-85.16    $3.64\n",
      "       2018-07-10   $956.30 $1,061.85    $-105.55         $-105.55  $-20.39\n",
      "       2018-07-11   $957.81 $1,132.07    $-174.26         $-174.26  $-68.71\n",
      "       2018-07-12   $980.97 $1,129.60    $-148.63         $-148.63   $25.63\n",
      "       2018-07-13   $997.54 $1,204.96    $-207.42         $-207.42  $-58.79\n",
      "       2018-07-14   $997.54 $1,207.09    $-209.55         $-209.55   $-2.13\n",
      "       2018-07-15   $997.54 $1,209.22    $-211.68         $-211.68   $-2.13\n",
      "       2018-07-16 $1,045.76 $1,235.54    $-189.78         $-189.78   $21.90\n",
      "       2018-07-17 $1,043.14 $1,236.50    $-193.36         $-193.36   $-3.58\n",
      "       2018-07-18 $1,075.66 $1,317.95    $-242.29         $-242.29  $-48.93\n",
      "       2018-07-19 $1,103.84 $1,299.52    $-195.68         $-195.68   $46.62\n",
      "       2018-07-20 $1,251.23 $1,301.38     $-50.15          $-50.15  $145.52\n",
      "       2018-07-21 $1,251.23 $1,303.51     $-52.28          $-52.28   $-2.13\n",
      "       2018-07-22 $1,251.23 $1,305.64     $-54.41          $-54.41   $-2.13\n",
      "       2018-07-23 $1,303.07 $1,310.53      $-7.46           $-7.46   $46.96\n",
      "       2018-07-24 $1,301.31 $1,328.36     $-27.04          $-27.04  $-19.59\n",
      "       2018-07-25 $1,392.13 $1,338.91      $53.23           $53.23   $80.27\n",
      "       2018-07-26 $1,404.89 $1,408.56      $-3.67           $-3.67  $-56.89\n",
      "       2018-07-27 $1,441.78 $1,536.22     $-94.44          $-94.44  $-90.77\n",
      "       2018-07-28 $1,441.78 $1,538.35     $-96.57          $-96.57   $-2.13\n",
      "       2018-07-29 $1,441.78 $1,540.48     $-98.70          $-98.70   $-2.13\n",
      "       2018-07-30 $1,467.73 $1,648.55    $-180.82         $-180.82  $-82.12\n",
      "       2018-07-31 $1,506.09 $1,687.26    $-181.17         $-181.17   $-0.35\n",
      "       2018-08-01 $1,564.02 $1,689.39    $-125.37         $-125.37   $55.80\n",
      "       2018-08-02 $1,767.40 $1,714.05      $53.35           $53.35  $178.72\n",
      "       2018-08-03 $1,907.79 $1,718.21     $189.58          $189.58  $136.23\n",
      "       2018-08-04 $1,907.79 $1,720.34     $187.45          $187.45   $-2.13\n",
      "       2018-08-05 $1,907.79 $1,722.47     $185.32          $185.32   $-2.13\n",
      "       2018-08-06 $1,906.39 $1,773.00     $133.39          $133.39  $-51.93\n",
      "       2018-08-07 $1,914.32 $1,794.70     $119.62          $119.62  $-13.77\n",
      "       2018-08-08 $1,929.11 $1,837.32      $91.79           $91.79  $-27.83\n",
      "       2018-08-09 $1,946.43 $1,839.45     $106.98          $106.98   $15.19\n",
      "       2018-08-10 $1,951.87 $1,865.04      $86.83           $86.83  $-20.14\n",
      "       2018-08-11 $1,951.87 $1,867.17      $84.70           $84.70   $-2.13\n",
      "       2018-08-12 $1,951.87 $1,869.30      $82.57           $82.57   $-2.13\n",
      "       2018-08-13 $2,012.03 $1,871.43     $140.60          $140.60   $58.03\n",
      "       2018-08-14 $2,012.59 $1,886.17     $126.42          $126.42  $-14.18\n",
      "       2018-08-15 $2,026.18 $2,022.86       $3.32            $3.32 $-123.10\n",
      "       2018-08-16 $2,026.37 $2,026.11       $0.26            $0.26   $-3.06\n",
      "       2018-08-17 $2,040.99 $2,056.39     $-15.40          $-15.40  $-15.66\n",
      "       2018-08-18 $2,040.99 $2,058.52     $-17.53          $-17.53   $-2.13\n",
      "       2018-08-19 $2,040.99 $2,060.65     $-19.66          $-19.66   $-2.13\n",
      "       2018-08-20 $2,040.99 $2,103.38     $-62.39          $-62.39  $-42.73\n",
      "       2018-08-21 $2,131.95 $2,117.80      $14.15           $14.15   $76.54\n",
      "       2018-08-22 $2,131.95 $2,119.93      $12.02           $12.02   $-2.13\n",
      "       2018-08-23 $2,144.17 $2,129.44      $14.73           $14.73    $2.71\n",
      "       2018-08-24 $2,144.17 $2,133.97      $10.20           $10.20   $-4.53\n",
      "       2018-08-25 $2,144.17 $2,136.10       $8.07            $8.07   $-2.13\n",
      "       2018-08-26 $2,144.17 $2,138.23       $5.94            $5.94   $-2.13\n",
      "       2018-08-27 $2,176.09 $2,214.25     $-38.16          $-38.16  $-44.10\n"
     ]
    }
   ],
   "source": [
    "result = df.groupby(['entity','date']).sum()\n",
    "result['delta'] = result['net_asset_value'] - result['net_asset_value'].shift(1)\n",
    "columns = ['revenues','expenses','net_income','net_asset_value','delta']\n",
    "with pd.option_context('display.max_rows', None, 'display.max_columns', None):\n",
    "    print(result[columns])"
   ]
  },
  {
   "cell_type": "code",
   "execution_count": 50,
   "metadata": {},
   "outputs": [
    {
     "data": {
      "text/plain": [
       "<matplotlib.text.Text at 0x117e6c2b0>"
      ]
     },
     "execution_count": 50,
     "metadata": {},
     "output_type": "execute_result"
    },
    {
     "data": {
      "image/png": "[encoded data removed]",
      "text/plain": [
       "<matplotlib.figure.Figure at 0x117e69400>"
      ]
     },
     "metadata": {},
     "output_type": "display_data"
    }
   ],
   "source": [
    "ax = df['net_asset_value'].plot(legend=True)\n",
    "ax.set_ylabel('NAV')"
   ]
  },
  {
   "cell_type": "code",
   "execution_count": null,
   "metadata": {},
   "outputs": [],
   "source": []
  }
 ],
 "metadata": {
  "kernelspec": {
   "display_name": "Python 3",
   "language": "python",
   "name": "python3"
  }
 },
 "nbformat": 4,
 "nbformat_minor": 2
}
